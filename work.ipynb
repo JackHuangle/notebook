{
 "cells": [
  {
   "cell_type": "markdown",
   "id": "093dd28e-9e4f-461a-bfea-e08ac129dd02",
   "metadata": {},
   "source": [
    "# My Jupyter Notebook on IBM Watson Studio"
   ]
  },
  {
   "cell_type": "markdown",
   "id": "5d89a6f9-cf2a-4110-897d-d145c392863f",
   "metadata": {},
   "source": [
    "**huanglefei**  \n",
    "businessman"
   ]
  },
  {
   "cell_type": "markdown",
   "id": "8b416342-4ec6-41bd-955f-f2e51290fc8e",
   "metadata": {},
   "source": [
    "I'm interested in data science because I want to analyze business data"
   ]
  },
  {
   "cell_type": "markdown",
   "id": "d070857e-7efc-4d74-bf3b-2957cdcd91c8",
   "metadata": {},
   "source": [
    "### do some basic calculotion "
   ]
  },
  {
   "cell_type": "code",
   "execution_count": 21,
   "id": "e7edb101-2a76-4793-8bc9-f5831de65d96",
   "metadata": {},
   "outputs": [
    {
     "name": "stdout",
     "output_type": "stream",
     "text": [
      "7\n"
     ]
    }
   ],
   "source": [
    "a=1\n",
    "b=2\n",
    "c=40\n",
    "print(a + b * 3)"
   ]
  },
  {
   "cell_type": "markdown",
   "id": "64ca27c8-5b5a-4192-b212-b59b99c31e98",
   "metadata": {},
   "source": [
    "- - -\n",
    "<li>list 1</li>\n",
    "<li>list 2</li>\n",
    "<li>list 3</li>\n",
    "<li>list 4</li>\n",
    "<li>list 5</li>\n",
    " \n",
    " - - -\n",
    " \n",
    "<table border=\"1\">\n",
    "    <tr>\n",
    "        <td>row 1, cell 1</td›\n",
    "        <td>row 1, cell 2</td›\n",
    "    </tr>\n",
    "    <tr>\n",
    "        <td>row 2, cell 1</td›\n",
    "        <ta>row 2, cell 2</td›\n",
    "    </tr>\n",
    "</table>\n",
    " \n",
    "- - -\n",
    "\n",
    "<h1><a href-\"https://google.com/\">Google</a></h1>"
   ]
  }
 ],
 "metadata": {
  "kernelspec": {
   "display_name": "Python 3 (ipykernel)",
   "language": "python",
   "name": "python3"
  },
  "language_info": {
   "codemirror_mode": {
    "name": "ipython",
    "version": 3
   },
   "file_extension": ".py",
   "mimetype": "text/x-python",
   "name": "python",
   "nbconvert_exporter": "python",
   "pygments_lexer": "ipython3",
   "version": "3.9.12"
  }
 },
 "nbformat": 4,
 "nbformat_minor": 5
}
